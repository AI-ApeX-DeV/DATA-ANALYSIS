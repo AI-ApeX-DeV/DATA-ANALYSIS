{
 "cells": [
  {
   "cell_type": "code",
   "execution_count": 1,
   "metadata": {},
   "outputs": [
    {
     "name": "stdout",
     "output_type": "stream",
     "text": [
      "20\n",
      "20\n"
     ]
    }
   ],
   "source": [
    "x=[1,2,3,4,5,6,7,8,9,10,11,12,13,14,15,16,17,18,19,20]\n",
    "y=[7,4,3,2,1,6,43,87,54,34,2,89,65,43,34,32,98,56,34,34]\n",
    "print(len(x))\n",
    "print(len(y))"
   ]
  },
  {
   "cell_type": "code",
   "execution_count": 2,
   "metadata": {},
   "outputs": [],
   "source": [
    "x_train=x\n",
    "y_train=y"
   ]
  },
  {
   "cell_type": "code",
   "execution_count": 3,
   "metadata": {},
   "outputs": [
    {
     "data": {
      "text/plain": [
       "<matplotlib.collections.PathCollection at 0x2abff3f6990>"
      ]
     },
     "execution_count": 3,
     "metadata": {},
     "output_type": "execute_result"
    },
    {
     "data": {
      "image/png": "[encoded data removed]",
      "text/plain": [
       "<Figure size 640x480 with 1 Axes>"
      ]
     },
     "metadata": {},
     "output_type": "display_data"
    }
   ],
   "source": [
    "import matplotlib.pyplot as plt\n",
    "\n",
    "plt.scatter(x,y,c='b')"
   ]
  },
  {
   "cell_type": "code",
   "execution_count": 12,
   "metadata": {},
   "outputs": [],
   "source": [
    "import numpy as np\n",
    "def y_value(x,w,b):\n",
    "    l=len(x)\n",
    "    f_wb=np.zeros(l)\n",
    "    for i in range(l):\n",
    "        f_wb[i]=w*x[i]+b\n",
    "\n",
    "    return f_wb"
   ]
  },
  {
   "cell_type": "code",
   "execution_count": 13,
   "metadata": {},
   "outputs": [],
   "source": [
    "def compute_cost(x,y,w,b):\n",
    "    l=len(x)\n",
    "    sum=0\n",
    "    f_wb=y_value(x,w,b)\n",
    "    for i in range(l):\n",
    "        sum=sum+(f_wb[i]-y[i])**2\n",
    "    cost=(1/(2*l))*sum\n",
    "\n",
    "    return cost"
   ]
  },
  {
   "cell_type": "code",
   "execution_count": 17,
   "metadata": {},
   "outputs": [],
   "source": [
    "def gradient(x,y,w,b):\n",
    "    l=len(x)\n",
    "    dj_dw=0\n",
    "    dj_db=0\n",
    "    for i in range(l):\n",
    "        f_wb=y_value(x,w,b)\n",
    "        dj_dw_i=(f_wb-y[i])*x[i]\n",
    "        df_db_i=(f_wb-y[i])\n",
    "        dj_db+=df_db_i\n",
    "        dj_dw+=dj_dw_i\n",
    "    dj_dw=dj_dw/l\n",
    "    dj_db=dj_db/l\n",
    "    \n",
    "    return dj_dw,dj_db"
   ]
  },
  {
   "cell_type": "code",
   "execution_count": 18,
   "metadata": {},
   "outputs": [],
   "source": [
    "def gradient_descent(x,y,w,b,alpha,iters):\n",
    "    j_history=[]\n",
    "    p_history=[]\n",
    "\n",
    "    for i in range(iters):\n",
    "        dj_dw,dj_db=gradient(x,y,w,b)\n",
    "        b=b-alpha*dj_db\n",
    "        w=w-alpha*dj_dw\n",
    "        j_history.append(compute_cost(x,y,w,b))\n",
    "        p_history.append([w,b])\n",
    "\n",
    "        if(i%100==0):\n",
    "            print(\"iter {} --> j_history : {} | p_history : {} | w : {} | b : {}\",i,j_history[-1],p_history[-1],w,b)\n",
    "    \n",
    "    return w,b,j_history,p_history"
   ]
  },
  {
   "cell_type": "code",
   "execution_count": 19,
   "metadata": {},
   "outputs": [
    {
     "ename": "TypeError",
     "evalue": "'float' object is not subscriptable",
     "output_type": "error",
     "traceback": [
      "\u001b[1;31m---------------------------------------------------------------------------\u001b[0m",
      "\u001b[1;31mTypeError\u001b[0m                                 Traceback (most recent call last)",
      "Cell \u001b[1;32mIn[19], line 5\u001b[0m\n\u001b[0;32m      3\u001b[0m \u001b[39miter\u001b[39m\u001b[39m=\u001b[39m\u001b[39m10000\u001b[39m\n\u001b[0;32m      4\u001b[0m alpha\u001b[39m=\u001b[39m\u001b[39m1.0e-2\u001b[39m\n\u001b[1;32m----> 5\u001b[0m w,b,j_hist,p_hist\u001b[39m=\u001b[39mgradient_descent(x,y,w,b,alpha,\u001b[39miter\u001b[39;49m)\n\u001b[0;32m      6\u001b[0m \u001b[39mprint\u001b[39m(\u001b[39m\"\u001b[39m\u001b[39mfinal output : w : \u001b[39m\u001b[39m{}\u001b[39;00m\u001b[39m, b: \u001b[39m\u001b[39m{}\u001b[39;00m\u001b[39m \u001b[39m\u001b[39m\"\u001b[39m,w,b)\n",
      "Cell \u001b[1;32mIn[18], line 9\u001b[0m, in \u001b[0;36mgradient_descent\u001b[1;34m(x, y, w, b, alpha, iters)\u001b[0m\n\u001b[0;32m      7\u001b[0m b\u001b[39m=\u001b[39mb\u001b[39m-\u001b[39malpha\u001b[39m*\u001b[39mdj_db\n\u001b[0;32m      8\u001b[0m w\u001b[39m=\u001b[39mw\u001b[39m-\u001b[39malpha\u001b[39m*\u001b[39mdj_dw\n\u001b[1;32m----> 9\u001b[0m j_history\u001b[39m.\u001b[39mappend(compute_cost(x,y,w,b))\n\u001b[0;32m     10\u001b[0m p_history\u001b[39m.\u001b[39mappend([w,b])\n\u001b[0;32m     12\u001b[0m \u001b[39mif\u001b[39;00m(i\u001b[39m%\u001b[39m\u001b[39m100\u001b[39m\u001b[39m==\u001b[39m\u001b[39m0\u001b[39m):\n",
      "Cell \u001b[1;32mIn[13], line 6\u001b[0m, in \u001b[0;36mcompute_cost\u001b[1;34m(x, y, w, b)\u001b[0m\n\u001b[0;32m      4\u001b[0m f_wb\u001b[39m=\u001b[39my_value(x,w,b)\n\u001b[0;32m      5\u001b[0m \u001b[39mfor\u001b[39;00m i \u001b[39min\u001b[39;00m \u001b[39mrange\u001b[39m(l):\n\u001b[1;32m----> 6\u001b[0m     \u001b[39msum\u001b[39m\u001b[39m=\u001b[39m\u001b[39msum\u001b[39m\u001b[39m+\u001b[39m(f_wb[i]\u001b[39m-\u001b[39my[i])\u001b[39m*\u001b[39m\u001b[39m*\u001b[39m\u001b[39m2\u001b[39m\n\u001b[0;32m      7\u001b[0m cost\u001b[39m=\u001b[39m(\u001b[39m1\u001b[39m\u001b[39m/\u001b[39m(\u001b[39m2\u001b[39m\u001b[39m*\u001b[39ml))\u001b[39m*\u001b[39m\u001b[39msum\u001b[39m\n\u001b[0;32m      9\u001b[0m \u001b[39mreturn\u001b[39;00m cost\n",
      "\u001b[1;31mTypeError\u001b[0m: 'float' object is not subscriptable"
     ]
    }
   ],
   "source": [
    "w=0\n",
    "b=0\n",
    "iter=10000\n",
    "alpha=1.0e-2\n",
    "w,b,j_hist,p_hist=gradient_descent(x,y,w,b,alpha,iter)\n",
    "print(\"final output : w : {}, b: {} \",w,b)"
   ]
  },
  {
   "cell_type": "code",
   "execution_count": null,
   "metadata": {},
   "outputs": [],
   "source": []
  }
 ],
 "metadata": {
  "kernelspec": {
   "display_name": "Python 3",
   "language": "python",
   "name": "python3"
  },
  "language_info": {
   "codemirror_mode": {
    "name": "ipython",
    "version": 3
   },
   "file_extension": ".py",
   "mimetype": "text/x-python",
   "name": "python",
   "nbconvert_exporter": "python",
   "pygments_lexer": "ipython3",
   "version": "3.11.4"
  },
  "orig_nbformat": 4
 },
 "nbformat": 4,
 "nbformat_minor": 2
}
